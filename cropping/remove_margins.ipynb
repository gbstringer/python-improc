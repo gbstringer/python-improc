{
 "cells": [
  {
   "cell_type": "markdown",
   "metadata": {
    "collapsed": true,
    "pycharm": {
     "name": "#%% md\n"
    }
   },
   "source": [
    "# Image processing with OpenCV\n",
    "## Margin Removal\n",
    "***Objective:*** *to crop the (black) background from page images, only leaving the minimum margin outside the main image of\n",
    "the page itself. Also produces a binary (1-bit) image suitable for feeding into an OCR/HTR pipeline.\n",
    "The algorithm as it stands does need a fairly dark, even background (e.g. the grey copy stand with grid causes problems),\n",
    "though the threshold parameters could be adjusted to accommodate this.*\n",
    "\n",
    "**Repository:** https://github.com/gbstringer/python-improc/\n",
    "\n",
    "#### Import numpy, scikit-image and open computer vision libraries\n",
    "* **numpy** (*) provides the matrix arithmetic (not currently used)\n",
    "* **cv2** (opencv-python) provides the image processing functions\n",
    "* **skimage** (scikit-image) provides the embedded image display in Jupyter\n",
    "* **matplotlib** (*) is used to lay out side-by-side comparisons (not currently used)\n",
    "* **copy** is needed to perform deep copies of the images (alternatives?)\n",
    "\n",
    "These packages (*) will need to be installed in the virtual instance or globally if running from Jupyter itself. You may\n",
    "also need to install Qt packages for the interactive image display."
   ]
  },
  {
   "cell_type": "code",
   "execution_count": 1,
   "outputs": [],
   "source": [
    "#from matplotlib import pyplot as plt\n",
    "#import matplotlib\n",
    "import numpy as np\n",
    "import cv2\n",
    "#import skimage.io\n",
    "from skimage import io\n",
    "import copy"
   ],
   "metadata": {
    "collapsed": false,
    "pycharm": {
     "name": "#%%\n"
    }
   }
  },
  {
   "cell_type": "markdown",
   "source": [
    "#### Configuration\n",
    "* Set **SHOW_FULLSIZE** = True to show full sized images\n",
    "* **DELAY** is the duration to show the full sized images in milliseconds"
   ],
   "metadata": {
    "collapsed": false
   }
  },
  {
   "cell_type": "code",
   "execution_count": 2,
   "outputs": [
    {
     "name": "stdout",
     "output_type": "stream",
     "text": [
      "{'fits': ['imread', 'imread_collection'], 'gdal': ['imread', 'imread_collection'], 'gtk': ['imshow'], 'imageio': ['imread', 'imsave', 'imread_collection'], 'imread': ['imread', 'imsave', 'imread_collection'], 'matplotlib': ['imshow', 'imread', 'imshow_collection', 'imread_collection'], 'pil': ['imread', 'imsave', 'imread_collection'], 'qt': ['imshow', 'imsave', 'imread', 'imread_collection'], 'simpleitk': ['imread', 'imsave', 'imread_collection'], 'tifffile': ['imread', 'imsave', 'imread_collection']}\n"
     ]
    },
    {
     "ename": "RuntimeError",
     "evalue": "Plugin imageio does not support `imshow`.",
     "output_type": "error",
     "traceback": [
      "\u001B[1;31m---------------------------------------------------------------------------\u001B[0m",
      "\u001B[1;31mRuntimeError\u001B[0m                              Traceback (most recent call last)",
      "Input \u001B[1;32mIn [2]\u001B[0m, in \u001B[0;36m<module>\u001B[1;34m\u001B[0m\n\u001B[0;32m     10\u001B[0m listplug \u001B[38;5;241m=\u001B[39m io\u001B[38;5;241m.\u001B[39mfind_available_plugins()\n\u001B[0;32m     11\u001B[0m \u001B[38;5;28mprint\u001B[39m(listplug)\n\u001B[1;32m---> 13\u001B[0m \u001B[43mio\u001B[49m\u001B[38;5;241;43m.\u001B[39;49m\u001B[43muse_plugin\u001B[49m\u001B[43m(\u001B[49m\u001B[43mname\u001B[49m\u001B[38;5;241;43m=\u001B[39;49m\u001B[38;5;124;43m'\u001B[39;49m\u001B[38;5;124;43mimageio\u001B[39;49m\u001B[38;5;124;43m'\u001B[39;49m\u001B[43m,\u001B[49m\u001B[43m \u001B[49m\u001B[43mkind\u001B[49m\u001B[38;5;241;43m=\u001B[39;49m\u001B[38;5;124;43m'\u001B[39;49m\u001B[38;5;124;43mimshow\u001B[39;49m\u001B[38;5;124;43m'\u001B[39;49m\u001B[43m)\u001B[49m\n",
      "File \u001B[1;32mc:\\users\\gbstring\\.virtualenvs\\basics--0dxwetd\\lib\\site-packages\\skimage\\io\\manage_plugins.py:242\u001B[0m, in \u001B[0;36muse_plugin\u001B[1;34m(name, kind)\u001B[0m\n\u001B[0;32m    240\u001B[0m \u001B[38;5;28;01melse\u001B[39;00m:\n\u001B[0;32m    241\u001B[0m     \u001B[38;5;28;01mif\u001B[39;00m kind \u001B[38;5;129;01mnot\u001B[39;00m \u001B[38;5;129;01min\u001B[39;00m plugin_provides[name]:\n\u001B[1;32m--> 242\u001B[0m         \u001B[38;5;28;01mraise\u001B[39;00m \u001B[38;5;167;01mRuntimeError\u001B[39;00m(\u001B[38;5;124m\"\u001B[39m\u001B[38;5;124mPlugin \u001B[39m\u001B[38;5;132;01m%s\u001B[39;00m\u001B[38;5;124m does not support `\u001B[39m\u001B[38;5;132;01m%s\u001B[39;00m\u001B[38;5;124m`.\u001B[39m\u001B[38;5;124m\"\u001B[39m \u001B[38;5;241m%\u001B[39m\n\u001B[0;32m    243\u001B[0m                            (name, kind))\n\u001B[0;32m    245\u001B[0m     \u001B[38;5;28;01mif\u001B[39;00m kind \u001B[38;5;241m==\u001B[39m \u001B[38;5;124m'\u001B[39m\u001B[38;5;124mimshow\u001B[39m\u001B[38;5;124m'\u001B[39m:\n\u001B[0;32m    246\u001B[0m         kind \u001B[38;5;241m=\u001B[39m [kind, \u001B[38;5;124m'\u001B[39m\u001B[38;5;124m_app_show\u001B[39m\u001B[38;5;124m'\u001B[39m]\n",
      "\u001B[1;31mRuntimeError\u001B[0m: Plugin imageio does not support `imshow`."
     ]
    }
   ],
   "source": [
    "SHOW_FULLSIZE = False\n",
    "DELAY = 2000                # in milliseconds\n",
    "INPUT_PATH = '../data/'\n",
    "OUTPUT_PATH = '../output/'\n",
    "OUTPUT_THRESHOLD = 64       # Threshold for final output\n",
    "CROPPING_THRESHOLD = 1      # Threshold used to select the crop outline\n",
    "\n",
    "fname = 'uoedh_culver house letters12659'\n",
    "\n",
    "listplug = io.find_available_plugins()\n",
    "print(listplug)\n",
    "\n",
    "io.use_plugin(name='imageio', kind='imshow')"
   ],
   "metadata": {
    "collapsed": false,
    "pycharm": {
     "name": "#%%\n"
    }
   }
  },
  {
   "cell_type": "markdown",
   "source": [
    "### Helper functions\n",
    "\n",
    "* **makethumb()** is a quick rescaling function, reducing an image to 10% linear size\n",
    "* **showbriefly()** shows an image for DELAY milliseconds or until a key is pressed\n",
    "* **showimage()** is a combined embedded and popup display"
   ],
   "metadata": {
    "collapsed": false
   }
  },
  {
   "cell_type": "code",
   "execution_count": null,
   "outputs": [],
   "source": [
    "def showimage(i):\n",
    "    io.imshow(makethumb(i), plugin='ioimage')\n",
    "    showbriefly(i)\n",
    "\n",
    "def makethumb(i):\n",
    "    return cv2.resize(i,None,fx=0.1,fy=0.1,interpolation=cv2.INTER_CUBIC)\n",
    "\n",
    "def showbriefly(i):\n",
    "    if SHOW_FULLSIZE:\n",
    "        v = cv2.imshow('Image',i)\n",
    "        cv2.waitKey(DELAY)\n",
    "        cv2.destroyWindow(v)"
   ],
   "metadata": {
    "collapsed": false,
    "pycharm": {
     "name": "#%%\n"
    }
   }
  },
  {
   "cell_type": "markdown",
   "source": [
    "### Load the image\n",
    "* Image is read as a BGR matrix"
   ],
   "metadata": {
    "collapsed": false
   }
  },
  {
   "cell_type": "code",
   "execution_count": null,
   "outputs": [],
   "source": [
    "img = cv2.imread(filename=INPUT_PATH+fname+'.jpg')\n",
    "showimage(img)"
   ],
   "metadata": {
    "collapsed": false,
    "pycharm": {
     "name": "#%%\n"
    }
   }
  },
  {
   "cell_type": "markdown",
   "source": [
    "#### Convert to grayscale"
   ],
   "metadata": {
    "collapsed": false
   }
  },
  {
   "cell_type": "code",
   "execution_count": null,
   "outputs": [],
   "source": [
    "grey = cv2.cvtColor(img,cv2.COLOR_BGR2GRAY)\n",
    "showimage(grey)"
   ],
   "metadata": {
    "collapsed": false,
    "pycharm": {
     "name": "#%%\n"
    }
   }
  },
  {
   "cell_type": "markdown",
   "source": [
    "### Use cv.threshold() to isolate writing\n",
    "* note that **cv2.threshold()** returns two arguments:\n",
    " * **ret** the threshold mask pattern (temporary variable)\n",
    " * **thresh** the image with threshold applied\n",
    " * Uses the adaptive **OTSU** algorithms for better results on uneven exposures"
   ],
   "metadata": {
    "collapsed": false
   }
  },
  {
   "cell_type": "code",
   "execution_count": null,
   "outputs": [],
   "source": [
    "ret,thresh = cv2.threshold(grey,OUTPUT_THRESHOLD,255,cv2.THRESH_BINARY)\n",
    "showimage(thresh)"
   ],
   "metadata": {
    "collapsed": false,
    "pycharm": {
     "name": "#%%\n"
    }
   }
  },
  {
   "cell_type": "markdown",
   "source": [
    "#### Find the Contours\n",
    "* Redo the threshold with more extreme settings\n",
    "* Find the contours of the objects in the image\n",
    "\n",
    "\n",
    "From: https://stackoverflow.com/questions/13538748/crop-black-edges-with-opencv"
   ],
   "metadata": {
    "collapsed": false,
    "pycharm": {
     "name": "#%% md\n"
    }
   }
  },
  {
   "cell_type": "code",
   "execution_count": null,
   "outputs": [],
   "source": [
    "_, cropthresh = cv2.threshold(thresh,CROPPING_THRESHOLD,255,cv2.THRESH_BINARY)\n",
    "\n",
    "contours,hierarchy = cv2.findContours(cropthresh,cv2.RETR_EXTERNAL,cv2.CHAIN_APPROX_SIMPLE)"
   ],
   "metadata": {
    "collapsed": false,
    "pycharm": {
     "name": "#%%\n"
    }
   }
  },
  {
   "cell_type": "markdown",
   "source": [
    "#### Find contour with maximal area (largest item on page)\n",
    "* Step through each of the contours[] keeping track of the contour giving the maximal value\n",
    "* Store the max contour in **cont**\n",
    "* *might be a better way of doing this*"
   ],
   "metadata": {
    "collapsed": false,
    "pycharm": {
     "name": "#%% md\n"
    }
   }
  },
  {
   "cell_type": "code",
   "execution_count": null,
   "outputs": [],
   "source": [
    "maxc = []\n",
    "maxa = 0\n",
    "for c in contours:\n",
    "    a = cv2.contourArea(c)\n",
    "    if a>maxa:\n",
    "        maxc=c\n",
    "        maxa=a\n",
    "        print('new maximum: '+str(maxa))\n",
    "cont = maxc"
   ],
   "metadata": {
    "collapsed": false,
    "pycharm": {
     "name": "#%%\n"
    }
   }
  },
  {
   "cell_type": "markdown",
   "source": [
    "#### Contour results:\n"
   ],
   "metadata": {
    "collapsed": false
   }
  },
  {
   "cell_type": "code",
   "execution_count": null,
   "outputs": [],
   "source": [
    "print(cont)\n",
    "\n",
    "#print(hierarchy)"
   ],
   "metadata": {
    "collapsed": false,
    "pycharm": {
     "name": "#%%\n"
    }
   }
  },
  {
   "cell_type": "markdown",
   "source": [
    "#### Find the bounding rectangle of that maximal contour"
   ],
   "metadata": {
    "collapsed": false,
    "pycharm": {
     "name": "#%% md\n"
    }
   }
  },
  {
   "cell_type": "code",
   "execution_count": null,
   "outputs": [],
   "source": [
    "x,y,w,h = cv2.boundingRect(cont)\n",
    "\n",
    "print('x,y,x`,y` = ',x,y,x+w,y+h)\n",
    "print('w,h = ',w,h)"
   ],
   "metadata": {
    "collapsed": false,
    "pycharm": {
     "name": "#%%\n"
    }
   }
  },
  {
   "cell_type": "markdown",
   "source": [
    "#### Show the bounding box in green for confirmation\n",
    "* Note that the **rectangle()** function modifies the image it references\n",
    " * Hence the need to do a **deepcopy()**"
   ],
   "metadata": {
    "collapsed": false,
    "pycharm": {
     "name": "#%% md\n"
    }
   }
  },
  {
   "cell_type": "code",
   "execution_count": null,
   "outputs": [],
   "source": [
    "boundbox = copy.deepcopy(img)\n",
    "cv2.rectangle(boundbox,(x,y),(x+w,y+h),(0,255,0),20)\n",
    "showimage(boundbox)"
   ],
   "metadata": {
    "collapsed": false,
    "pycharm": {
     "name": "#%%\n"
    }
   }
  },
  {
   "cell_type": "markdown",
   "source": [
    "#### Crop the original image using numpy matrix slicing"
   ],
   "metadata": {
    "collapsed": false
   }
  },
  {
   "cell_type": "code",
   "execution_count": null,
   "outputs": [],
   "source": [
    "crop = img[y:y+h,x:x+w]\n",
    "showimage(crop)"
   ],
   "metadata": {
    "collapsed": false,
    "pycharm": {
     "name": "#%%\n"
    }
   }
  },
  {
   "cell_type": "markdown",
   "source": [
    "#### And now thresholded image"
   ],
   "metadata": {
    "collapsed": false,
    "pycharm": {
     "name": "#%% md\n"
    }
   }
  },
  {
   "cell_type": "code",
   "execution_count": null,
   "outputs": [],
   "source": [
    "cropocr = thresh[y:y+h,x:x+w]\n",
    "showimage(cropocr)"
   ],
   "metadata": {
    "collapsed": false,
    "pycharm": {
     "name": "#%%\n"
    }
   }
  },
  {
   "cell_type": "markdown",
   "source": [
    "#### Write the output images"
   ],
   "metadata": {
    "collapsed": false,
    "pycharm": {
     "name": "#%% md\n"
    }
   }
  },
  {
   "cell_type": "code",
   "execution_count": null,
   "outputs": [],
   "source": [
    "print('Writing cropped colour image')\n",
    "_ = cv2.imwrite(img=crop,filename=OUTPUT_PATH+fname+'-cropped.jpg')\n",
    "print('Writing cropped thresholded image for OCR processing')\n",
    "_ = cv2.imwrite(img=cropocr, filename=OUTPUT_PATH+fname+'-thresholded.jpg')"
   ],
   "metadata": {
    "collapsed": false,
    "pycharm": {
     "name": "#%%\n"
    }
   }
  },
  {
   "cell_type": "markdown",
   "source": [
    "#### Remove any stray image windows"
   ],
   "metadata": {
    "collapsed": false
   }
  },
  {
   "cell_type": "code",
   "execution_count": null,
   "outputs": [],
   "source": [
    "cv2.destroyAllWindows()"
   ],
   "metadata": {
    "collapsed": false,
    "pycharm": {
     "name": "#%%\n"
    }
   }
  }
 ],
 "metadata": {
  "kernelspec": {
   "display_name": "Python 3",
   "language": "python",
   "name": "python3"
  },
  "language_info": {
   "codemirror_mode": {
    "name": "ipython",
    "version": 2
   },
   "file_extension": ".py",
   "mimetype": "text/x-python",
   "name": "python",
   "nbconvert_exporter": "python",
   "pygments_lexer": "ipython2",
   "version": "2.7.6"
  }
 },
 "nbformat": 4,
 "nbformat_minor": 0
}