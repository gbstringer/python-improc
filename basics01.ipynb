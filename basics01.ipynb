{
 "cells": [
  {
   "cell_type": "code",
   "execution_count": 1,
   "metadata": {
    "collapsed": true
   },
   "outputs": [
    {
     "name": "stderr",
     "output_type": "stream",
     "text": [
      "C:\\Users\\gbstring\\AppData\\Local\\Temp/ipykernel_22708/1816466015.py:4: UserWarning: Viewer requires Qt\n",
      "  import skimage.viewer\n",
      "C:\\Users\\gbstring\\AppData\\Local\\Temp/ipykernel_22708/1816466015.py:4: UserWarning: Viewer requires matplotlib\n",
      "  import skimage.viewer\n"
     ]
    }
   ],
   "source": [
    "import sys\n",
    "import skimage.io\n",
    "#import matplotlib.pyplot as plt\n",
    "import skimage.viewer\n",
    "import skimage.color\n",
    "from skimage.filters import thresholding"
   ]
  },
  {
   "cell_type": "code",
   "execution_count": 2,
   "metadata": {
    "pycharm": {
     "name": "#%%\n"
    }
   },
   "outputs": [
    {
     "name": "stderr",
     "output_type": "stream",
     "text": [
      "c:\\users\\gbstring\\.virtualenvs\\basics--0dxwetd\\lib\\site-packages\\skimage\\io\\manage_plugins.py:207: FutureWarning: `qt` plugin is deprecated and will be removed in 0.20. For alternatives, refer to https://scikit-image.org/docs/stable/user_guide/visualization.html\n",
      "  return func(*args, **kwargs)\n"
     ]
    }
   ],
   "source": [
    "image = skimage.io.imread(fname='data/uoedh_culver house letters12659.jpg')\n",
    "\n",
    "viewer = skimage.io.imshow(image)\n"
   ]
  },
  {
   "cell_type": "code",
   "execution_count": 3,
   "metadata": {
    "pycharm": {
     "name": "#%%\n"
    }
   },
   "outputs": [],
   "source": [
    "clip = image[100:1600, 200:1700, :]\n",
    "\n",
    "viewer2 = skimage.io.imshow(clip)"
   ]
  },
  {
   "cell_type": "code",
   "execution_count": 4,
   "metadata": {
    "pycharm": {
     "name": "#%%\n"
    }
   },
   "outputs": [],
   "source": [
    "clipgrey = skimage.color.rgb2gray(clip)\n",
    "\n",
    "viewer3 = skimage.io.imshow(clipgrey)"
   ]
  },
  {
   "cell_type": "code",
   "execution_count": 5,
   "metadata": {
    "pycharm": {
     "name": "#%%\n"
    }
   },
   "outputs": [
    {
     "ename": "SyntaxError",
     "evalue": "invalid syntax (Temp/ipykernel_22708/2900709239.py, line 4)",
     "output_type": "error",
     "traceback": [
      "\u001B[1;36m  File \u001B[1;32m\"C:\\Users\\gbstring\\AppData\\Local\\Temp/ipykernel_22708/2900709239.py\"\u001B[1;36m, line \u001B[1;32m4\u001B[0m\n\u001B[1;33m    if ()\u001B[0m\n\u001B[1;37m         ^\u001B[0m\n\u001B[1;31mSyntaxError\u001B[0m\u001B[1;31m:\u001B[0m invalid syntax\n"
     ]
    }
   ],
   "source": [
    "thresh = skimage.filters.threshold_mean(clipgrey)\n",
    "\n",
    "binary = clip > thresh\n",
    "if ()\n",
    "colourclip = skimage.color.gray2rgb(binary)"
   ]
  },
  {
   "cell_type": "code",
   "execution_count": null,
   "metadata": {
    "pycharm": {
     "name": "#%%\n"
    }
   },
   "outputs": [],
   "source": [
    "#viewer4 = skimage.io.imshow(binary, cmap=plt.cm.binary)\n",
    "#viewer4 = skimage.io.imshow(colourclip)\n",
    "#viewer5 = skimage.viewer.ImageViewer(colourclip)"
   ]
  }
 ],
 "metadata": {
  "kernelspec": {
   "display_name": "Python 3 (ipykernel)",
   "language": "python",
   "name": "python3"
  },
  "language_info": {
   "codemirror_mode": {
    "name": "ipython",
    "version": 3
   },
   "file_extension": ".py",
   "mimetype": "text/x-python",
   "name": "python",
   "nbconvert_exporter": "python",
   "pygments_lexer": "ipython3",
   "version": "3.8.5"
  }
 },
 "nbformat": 4,
 "nbformat_minor": 1
}